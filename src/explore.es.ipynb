{
    "cells": [
        {
            "cell_type": "markdown",
            "metadata": {},
            "source": [
                "# Explora aquí\n",
                "\n",
                "Se recomienda utilizar este cuaderno con fines de exploración."
            ]
        },
        {
            "cell_type": "code",
            "execution_count": 21,
            "metadata": {},
            "outputs": [],
            "source": [
                "import os\n",
                "from bs4 import BeautifulSoup\n",
                "import requests\n",
                "import time\n",
                "import sqlite3\n",
                "import matplotlib.pyplot as plt\n",
                "import seaborn as sns\n",
                "import pandas as pd\n"
            ]
        },
        {
            "cell_type": "code",
            "execution_count": 22,
            "metadata": {},
            "outputs": [
                {
                    "name": "stdout",
                    "output_type": "stream",
                    "text": [
                        "Página descargada correctamente.\n"
                    ]
                }
            ],
            "source": [
                "url = \"https://companies-market-cap-copy.vercel.app/index.html\"\n",
                "\n",
                "response = requests.get(url)\n",
                "\n",
                "if response.status_code == 200:\n",
                "    html_content = response.text\n",
                "    print(\"Página descargada correctamente.\")\n",
                "else:\n",
                "    print(f\"Error al descargar la página: {response.status_code}\")\n",
                "\n"
            ]
        },
        {
            "cell_type": "code",
            "execution_count": 23,
            "metadata": {},
            "outputs": [
                {
                    "name": "stdout",
                    "output_type": "stream",
                    "text": [
                        "Se encontraron 2 tablas en la página.\n"
                    ]
                },
                {
                    "data": {
                        "text/plain": [
                            "[<table class=\"table\" style=\"width:100%\">\n",
                            " <thead>\n",
                            " <tr>\n",
                            " <th>Year</th>\n",
                            " <th>Revenue</th>\n",
                            " <th>Change</th>\n",
                            " </tr>\n",
                            " </thead>\n",
                            " <tbody>\n",
                            " <tr><td><span class=\"year\">2024</span></td><td>$97.15 B</td><td class=\"percentage-green\">0.39%</td></tr><tr><td><span class=\"year\">2023</span> </td><td>$96.77 B</td><td class=\"percentage-green\">18.8%</td></tr><tr><td><span class=\"year\">2022</span></td><td>$81.46 B</td><td class=\"percentage-green\">51.35%</td></tr><tr><td><span class=\"year\">2021</span></td><td>$53.82 B</td><td class=\"percentage-green\">70.67%</td></tr><tr><td><span class=\"year\">2020</span></td><td>$31.53 B</td><td class=\"percentage-green\">28.31%</td></tr><tr><td><span class=\"year\">2019</span></td><td>$24.57 B</td><td class=\"percentage-green\">14.52%</td></tr><tr><td><span class=\"year\">2018</span></td><td>$21.46 B</td><td class=\"percentage-green\">82.51%</td></tr><tr><td><span class=\"year\">2017</span></td><td>$11.75 B</td><td class=\"percentage-green\">67.98%</td></tr><tr><td><span class=\"year\">2016</span></td><td>$7.00 B</td><td class=\"percentage-green\">73.01%</td></tr><tr><td><span class=\"year\">2015</span></td><td>$4.04 B</td><td class=\"percentage-green\">26.5%</td></tr><tr><td><span class=\"year\">2014</span></td><td>$3.19 B</td><td class=\"percentage-green\">58.85%</td></tr><tr><td><span class=\"year\">2013</span></td><td>$2.01 B</td><td class=\"percentage-green\">387.23%</td></tr><tr><td><span class=\"year\">2012</span></td><td>$0.41 B</td><td class=\"percentage-green\">102.34%</td></tr><tr><td><span class=\"year\">2011</span></td><td>$0.20 B</td><td class=\"percentage-green\">74.95%</td></tr><tr><td><span class=\"year\">2010</span></td><td>$0.11 B</td><td class=\"percentage-green\">4.29%</td></tr><tr><td><span class=\"year\">2009</span> </td><td>$0.11 B</td><td></td></tr> </tbody>\n",
                            " </table>,\n",
                            " <table class=\"table w-100\"> <thead> <tr> <th>Company</th> <th>Revenue</th> <th>Revenue <span class=\"responsive-hidden\">difference</span><span class=\"responsive-shown\">diff.</span></th> <th>Country</th> </tr> </thead> <tbody><tr><td class=\"name-td\"><a href=\"/apple/revenue/\" style=\"pointer-events: none;\"><div class=\"float-left pt-1\"></div><div class=\"name-div\"><div class=\"company-name\">Apple</div><div class=\"company-code\"><span class=\"rank d-none\"></span>AAPL</div></div></a></td></tr></tbody></table>]"
                        ]
                    },
                    "execution_count": 23,
                    "metadata": {},
                    "output_type": "execute_result"
                }
            ],
            "source": [
                "soup = BeautifulSoup(html_content, \"html.parser\")\n",
                "\n",
                "tables = soup.find_all(\"table\")\n",
                "\n",
                "print(f\"Se encontraron {len(tables)} tablas en la página.\")\n",
                "tables"
            ]
        },
        {
            "cell_type": "code",
            "execution_count": 24,
            "metadata": {},
            "outputs": [
                {
                    "name": "stdout",
                    "output_type": "stream",
                    "text": [
                        "Tabla 1: 17 filas, 3 columnas\n",
                        "Tabla 2: 2 filas, 4 columnas\n"
                    ]
                }
            ],
            "source": [
                "for i, table in enumerate(tables):\n",
                "    rows = table.find_all(\"tr\")\n",
                "    columns = len(rows[0].find_all(\"th\")) if rows else 0  # Número de columnas (encabezados)\n",
                "    print(f\"Tabla {i + 1}: {len(rows)} filas, {columns} columnas\")"
            ]
        },
        {
            "cell_type": "code",
            "execution_count": 28,
            "metadata": {},
            "outputs": [
                {
                    "data": {
                        "text/plain": [
                            "[['2024', '$97.15 B'],\n",
                            " ['2023', '$96.77 B'],\n",
                            " ['2022', '$81.46 B'],\n",
                            " ['2021', '$53.82 B'],\n",
                            " ['2020', '$31.53 B'],\n",
                            " ['2019', '$24.57 B'],\n",
                            " ['2018', '$21.46 B'],\n",
                            " ['2017', '$11.75 B'],\n",
                            " ['2016', '$7.00 B'],\n",
                            " ['2015', '$4.04 B'],\n",
                            " ['2014', '$3.19 B'],\n",
                            " ['2013', '$2.01 B'],\n",
                            " ['2012', '$0.41 B'],\n",
                            " ['2011', '$0.20 B'],\n",
                            " ['2010', '$0.11 B'],\n",
                            " ['2009', '$0.11 B']]"
                        ]
                    },
                    "execution_count": 28,
                    "metadata": {},
                    "output_type": "execute_result"
                }
            ],
            "source": [
                "tabla_correcta = tables[0]\n",
                "\n",
                "# Extraer las filas de la tabla\n",
                "filas = tabla_correcta.find_all(\"tr\")\n",
                "\n",
                "data = []\n",
                "for filas in filas[1:]:  # Saltar la fila de encabezado\n",
                "    col = filas.find_all(\"td\")\n",
                "    fecha = col[0].text.strip()\n",
                "    ingresos = col[1].text.strip()\n",
                "    data.append([fecha, ingresos])\n",
                "\n",
                "data"
            ]
        },
        {
            "cell_type": "code",
            "execution_count": 29,
            "metadata": {},
            "outputs": [
                {
                    "data": {
                        "text/html": [
                            "<div>\n",
                            "<style scoped>\n",
                            "    .dataframe tbody tr th:only-of-type {\n",
                            "        vertical-align: middle;\n",
                            "    }\n",
                            "\n",
                            "    .dataframe tbody tr th {\n",
                            "        vertical-align: top;\n",
                            "    }\n",
                            "\n",
                            "    .dataframe thead th {\n",
                            "        text-align: right;\n",
                            "    }\n",
                            "</style>\n",
                            "<table border=\"1\" class=\"dataframe\">\n",
                            "  <thead>\n",
                            "    <tr style=\"text-align: right;\">\n",
                            "      <th></th>\n",
                            "      <th>Fecha</th>\n",
                            "      <th>Ingresos</th>\n",
                            "    </tr>\n",
                            "  </thead>\n",
                            "  <tbody>\n",
                            "    <tr>\n",
                            "      <th>15</th>\n",
                            "      <td>2009</td>\n",
                            "      <td>$0.11 B</td>\n",
                            "    </tr>\n",
                            "    <tr>\n",
                            "      <th>14</th>\n",
                            "      <td>2010</td>\n",
                            "      <td>$0.11 B</td>\n",
                            "    </tr>\n",
                            "    <tr>\n",
                            "      <th>13</th>\n",
                            "      <td>2011</td>\n",
                            "      <td>$0.20 B</td>\n",
                            "    </tr>\n",
                            "    <tr>\n",
                            "      <th>12</th>\n",
                            "      <td>2012</td>\n",
                            "      <td>$0.41 B</td>\n",
                            "    </tr>\n",
                            "    <tr>\n",
                            "      <th>11</th>\n",
                            "      <td>2013</td>\n",
                            "      <td>$2.01 B</td>\n",
                            "    </tr>\n",
                            "    <tr>\n",
                            "      <th>10</th>\n",
                            "      <td>2014</td>\n",
                            "      <td>$3.19 B</td>\n",
                            "    </tr>\n",
                            "    <tr>\n",
                            "      <th>9</th>\n",
                            "      <td>2015</td>\n",
                            "      <td>$4.04 B</td>\n",
                            "    </tr>\n",
                            "    <tr>\n",
                            "      <th>8</th>\n",
                            "      <td>2016</td>\n",
                            "      <td>$7.00 B</td>\n",
                            "    </tr>\n",
                            "    <tr>\n",
                            "      <th>7</th>\n",
                            "      <td>2017</td>\n",
                            "      <td>$11.75 B</td>\n",
                            "    </tr>\n",
                            "    <tr>\n",
                            "      <th>6</th>\n",
                            "      <td>2018</td>\n",
                            "      <td>$21.46 B</td>\n",
                            "    </tr>\n",
                            "    <tr>\n",
                            "      <th>5</th>\n",
                            "      <td>2019</td>\n",
                            "      <td>$24.57 B</td>\n",
                            "    </tr>\n",
                            "    <tr>\n",
                            "      <th>4</th>\n",
                            "      <td>2020</td>\n",
                            "      <td>$31.53 B</td>\n",
                            "    </tr>\n",
                            "    <tr>\n",
                            "      <th>3</th>\n",
                            "      <td>2021</td>\n",
                            "      <td>$53.82 B</td>\n",
                            "    </tr>\n",
                            "    <tr>\n",
                            "      <th>2</th>\n",
                            "      <td>2022</td>\n",
                            "      <td>$81.46 B</td>\n",
                            "    </tr>\n",
                            "    <tr>\n",
                            "      <th>1</th>\n",
                            "      <td>2023</td>\n",
                            "      <td>$96.77 B</td>\n",
                            "    </tr>\n",
                            "    <tr>\n",
                            "      <th>0</th>\n",
                            "      <td>2024</td>\n",
                            "      <td>$97.15 B</td>\n",
                            "    </tr>\n",
                            "  </tbody>\n",
                            "</table>\n",
                            "</div>"
                        ],
                        "text/plain": [
                            "   Fecha  Ingresos\n",
                            "15  2009   $0.11 B\n",
                            "14  2010   $0.11 B\n",
                            "13  2011   $0.20 B\n",
                            "12  2012   $0.41 B\n",
                            "11  2013   $2.01 B\n",
                            "10  2014   $3.19 B\n",
                            "9   2015   $4.04 B\n",
                            "8   2016   $7.00 B\n",
                            "7   2017  $11.75 B\n",
                            "6   2018  $21.46 B\n",
                            "5   2019  $24.57 B\n",
                            "4   2020  $31.53 B\n",
                            "3   2021  $53.82 B\n",
                            "2   2022  $81.46 B\n",
                            "1   2023  $96.77 B\n",
                            "0   2024  $97.15 B"
                        ]
                    },
                    "execution_count": 29,
                    "metadata": {},
                    "output_type": "execute_result"
                }
            ],
            "source": [
                "df = pd.DataFrame(data, columns=[\"Fecha\", \"Ingresos\"])\n",
                "\n",
                "# Ordenar los datos por la columna \"Fecha\" de menor a mayor \n",
                "df = df.sort_values(\"Fecha\")\n",
                "\n",
                "df"
            ]
        },
        {
            "cell_type": "code",
            "execution_count": 31,
            "metadata": {},
            "outputs": [
                {
                    "name": "stdout",
                    "output_type": "stream",
                    "text": [
                        "    Fecha  Ingresos\n",
                        "15   2009      0.11\n",
                        "14   2010      0.11\n",
                        "13   2011      0.20\n",
                        "12   2012      0.41\n",
                        "11   2013      2.01\n",
                        "10   2014      3.19\n",
                        "9    2015      4.04\n",
                        "8    2016      7.00\n",
                        "7    2017     11.75\n",
                        "6    2018     21.46\n",
                        "5    2019     24.57\n",
                        "4    2020     31.53\n",
                        "3    2021     53.82\n",
                        "2    2022     81.46\n",
                        "1    2023     96.77\n",
                        "0    2024     97.15\n"
                    ]
                }
            ],
            "source": [
                "# Limpiar las columnas que contienen símbolos como \"$\", \"B\" y comas\n",
                "df_cleaned = df.replace({'\\$': '', 'B': '', ',': ''}, regex=True)\n",
                "\n",
                "# Convertir los valores a números, forzando NaN en los que no se puedan convertir\n",
                "df_cleaned = df_cleaned.apply(pd.to_numeric, errors='coerce')\n",
                "\n",
                "# Eliminar filas con valores vacíos o NaN\n",
                "df_cleaned = df_cleaned.dropna()\n",
                "\n",
                "# Mostrar las primeras filas del DataFrame limpio\n",
                "print(df_cleaned)"
            ]
        },
        {
            "cell_type": "code",
            "execution_count": 32,
            "metadata": {},
            "outputs": [
                {
                    "name": "stdout",
                    "output_type": "stream",
                    "text": [
                        "Filas: 16, Columnas: 2\n",
                        "   Fecha  Ingresos\n",
                        "15  2009   $0.11 B\n",
                        "14  2010   $0.11 B\n",
                        "13  2011   $0.20 B\n",
                        "12  2012   $0.41 B\n",
                        "11  2013   $2.01 B\n",
                        "10  2014   $3.19 B\n",
                        "9   2015   $4.04 B\n",
                        "8   2016   $7.00 B\n",
                        "7   2017  $11.75 B\n",
                        "6   2018  $21.46 B\n"
                    ]
                }
            ],
            "source": [
                "# Verificar la cantidad de filas y columnas del DataFrame antes de limpiar\n",
                "print(f\"Filas: {len(df)}, Columnas: {df.shape[1]}\")\n",
                "print(df.head(10))  # Mostrar los primeros 10 registros"
            ]
        },
        {
            "cell_type": "code",
            "execution_count": 34,
            "metadata": {},
            "outputs": [
                {
                    "name": "stdout",
                    "output_type": "stream",
                    "text": [
                        "Base de datos y tabla creadas correctamente.\n"
                    ]
                }
            ],
            "source": [
                "# Conectar a la base de datos (se creará si no existe)\n",
                "conn = sqlite3.connect(\"tesla_data.db\")\n",
                "cursor = conn.cursor()\n",
                "\n",
                "# Crear la tabla (ajusta los tipos de datos según el DataFrame)\n",
                "cursor.execute(\"\"\"\n",
                "    CREATE TABLE IF NOT EXISTS tesla_revenue (\n",
                "        year INTEGER PRIMARY KEY,\n",
                "        revenue REAL,\n",
                "        change REAL\n",
                "    )\n",
                "\"\"\")\n",
                "\n",
                "conn.commit()  # Guardar cambios\n",
                "print(\"Base de datos y tabla creadas correctamente.\")"
            ]
        },
        {
            "cell_type": "code",
            "execution_count": 35,
            "metadata": {},
            "outputs": [
                {
                    "name": "stdout",
                    "output_type": "stream",
                    "text": [
                        "Datos insertados correctamente en la base de datos.\n"
                    ]
                }
            ],
            "source": [
                "# Insertar los datos en la base de datos\n",
                "df_cleaned.to_sql(\"tesla_revenue\", conn, if_exists=\"replace\", index=False)\n",
                "\n",
                "print(\"Datos insertados correctamente en la base de datos.\")"
            ]
        },
        {
            "cell_type": "code",
            "execution_count": 36,
            "metadata": {},
            "outputs": [
                {
                    "name": "stdout",
                    "output_type": "stream",
                    "text": [
                        "   Fecha  Ingresos\n",
                        "0   2009      0.11\n",
                        "1   2010      0.11\n",
                        "2   2011      0.20\n",
                        "3   2012      0.41\n",
                        "4   2013      2.01\n"
                    ]
                }
            ],
            "source": [
                "# Leer los datos desde SQLite\n",
                "df_sql = pd.read_sql(\"SELECT * FROM tesla_revenue\", conn)\n",
                "\n",
                "# Mostrar las primeras filas\n",
                "print(df_sql.head())"
            ]
        },
        {
            "cell_type": "code",
            "execution_count": 39,
            "metadata": {},
            "outputs": [
                {
                    "data": {
                        "image/png": "[encoded data removed]",
                        "text/plain": [
                            "<Figure size 1000x500 with 1 Axes>"
                        ]
                    },
                    "metadata": {},
                    "output_type": "display_data"
                }
            ],
            "source": [
                "# Gráfico de ingresos por año\n",
                "plt.figure(figsize=(10, 5))\n",
                "plt.plot(df_sql[\"Fecha\"], df_sql[\"Ingresos\"], marker=\"o\", linestyle=\"-\", color=\"b\", label=\"Revenue (B)\")\n",
                "plt.xlabel(\"Year\")\n",
                "plt.ylabel(\"Revenue (Billion $)\")\n",
                "plt.title(\"Evolución de los ingresos de Tesla\")\n",
                "plt.legend()\n",
                "plt.grid()\n",
                "plt.show()"
            ]
        }
    ],
    "metadata": {
        "kernelspec": {
            "display_name": "Python 3",
            "language": "python",
            "name": "python3"
        },
        "language_info": {
            "codemirror_mode": {
                "name": "ipython",
                "version": 3
            },
            "file_extension": ".py",
            "mimetype": "text/x-python",
            "name": "python",
            "nbconvert_exporter": "python",
            "pygments_lexer": "ipython3",
            "version": "3.11.4"
        },
        "orig_nbformat": 4
    },
    "nbformat": 4,
    "nbformat_minor": 2
}
